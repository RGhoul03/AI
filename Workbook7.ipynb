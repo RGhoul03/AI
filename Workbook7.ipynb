{
 "cells": [
  {
   "cell_type": "markdown",
   "metadata": {},
   "source": [
    "# Задание 1\n",
    "Реализовать классы нейросетей по аналогии с классом OurNeuralNetwork.\n",
    "Данные нейросети:\n",
    "− три входа (𝑥1, 𝑥2, 𝑥3\n",
    ");\n",
    "− три нейрона в скрытых слоях (ℎ1, ℎ2, ℎ3);\n",
    "− выход (𝑜1).\n",
    "Нейроны имеют идентичные веса и пороги:\n",
    "− 𝑤 = [0.5, 0.5, 0.5]\n",
    "− 𝑏 = 0\n",
    "Данные нейросети:\n",
    "− два входа (𝑥1, 𝑥2);\n",
    "− два нейрона в скрытых слоях (ℎ1, ℎ2);\n",
    "− два выхода (𝑜1, 𝑜2\n",
    ").\n",
    "Нейроны имеют идентичные веса и пороги:\n",
    "− 𝑤 = [1, 0];\n",
    "− 𝑏 = 1.\n"
   ]
  },
  {
   "cell_type": "code",
   "execution_count": 20,
   "metadata": {},
   "outputs": [],
   "source": [
    "import numpy as np"
   ]
  },
  {
   "cell_type": "code",
   "execution_count": 21,
   "metadata": {},
   "outputs": [
    {
     "name": "stdout",
     "output_type": "stream",
     "text": [
      "0.8160723773367224\n"
     ]
    }
   ],
   "source": [
    "def sigmoid(x):\n",
    "    return 1 / (1 + np.exp(-x))\n",
    "\n",
    "class Neuron:\n",
    "    def __init__(self, weights, bias):\n",
    "        self.weights = weights\n",
    "        self.bias = bias\n",
    "    def feed_forward(self, inputs):\n",
    "        total = np.dot(self.weights, inputs) + self.bias\n",
    "        return sigmoid(total)\n",
    "\n",
    "class OurNeuralNetwork:\n",
    "    def __init__(self):\n",
    "        weights = np.array([0.5, 0.5, 0.5])\n",
    "        bias = 0\n",
    "        self.h1 = Neuron(weights, bias)\n",
    "        self.h2 = Neuron(weights, bias)\n",
    "        self.h3 = Neuron(weights, bias)\n",
    "        self.o1 = Neuron(weights, bias)\n",
    "    def feed_forward(self, x):\n",
    "        out_h1 = self.h1.feed_forward(x)\n",
    "        out_h2 = self.h1.feed_forward(x)\n",
    "        out_h3 = self.h1.feed_forward(x)\n",
    "        out_o1 = self.o1.feed_forward(np.array([out_h1, out_h2, out_h3]))\n",
    "        return out_o1\n",
    "\n",
    "network = OurNeuralNetwork()\n",
    "x = np.array([2, 3, 5])\n",
    "\n",
    "print(network.feed_forward(x))"
   ]
  },
  {
   "cell_type": "code",
   "execution_count": 22,
   "metadata": {},
   "outputs": [
    {
     "name": "stdout",
     "output_type": "stream",
     "text": [
      "(0.8677026536525567, 0.8757270529783324)\n"
     ]
    }
   ],
   "source": [
    "class OurNeuralNetwork1:\n",
    "    def __init__(self):\n",
    "        weights = np.array([1, 0])\n",
    "        bias = 1\n",
    "        self.h1 = Neuron(weights, bias)\n",
    "        self.h2 = Neuron(weights, bias)\n",
    "        self.o1 = Neuron(weights, bias)\n",
    "        self.o2 = Neuron(weights, bias)\n",
    "    def feed_forward(self, x, y):\n",
    "        out_h1 = self.h1.feed_forward(x)\n",
    "        out_h2 = self.h2.feed_forward(y)\n",
    "        out_o1 = self.o1.feed_forward(out_h1)\n",
    "        out_o2 = self.o2.feed_forward(out_h2)\n",
    "        return out_o1, out_o2\n",
    "\n",
    "network = OurNeuralNetwork1()\n",
    "x = 1\n",
    "y = 2\n",
    "print(network.feed_forward(x, y))"
   ]
  },
  {
   "cell_type": "code",
   "execution_count": 23,
   "metadata": {},
   "outputs": [
    {
     "name": "stdout",
     "output_type": "stream",
     "text": [
      "0.9051236395219001\n"
     ]
    }
   ],
   "source": [
    "# Задание 1.2\n",
    "# Реализуйте классы нейронных сетей с использованием других функций активации.\n",
    "\n",
    "\n",
    "def tanh(x):\n",
    "    return np.tanh(x)\n",
    "\n",
    "\n",
    "class Neurontanh:\n",
    "    def __init__(self, weights, bias):\n",
    "        self.weights = weights\n",
    "        self.bias = bias\n",
    "\n",
    "    def feed_forward(self, inputs):\n",
    "        total = np.dot(self.weights, inputs) + self.bias\n",
    "        return tanh(total)\n",
    "\n",
    "\n",
    "class OurNeuralNetworkTanH:\n",
    "    def __init__(self):\n",
    "        weights = np.array([0.5, 0.5, 0.5])\n",
    "        bias = 0\n",
    "        self.h1 = Neurontanh(weights, bias)\n",
    "        self.h2 = Neurontanh(weights, bias)\n",
    "        self.h3 = Neurontanh(weights, bias)\n",
    "        self.o1 = Neurontanh(weights, bias)\n",
    "    def feed_forward(self, x):\n",
    "        out_h1 = self.h1.feed_forward(x)\n",
    "        out_h2 = self.h1.feed_forward(x)\n",
    "        out_h3 = self.h1.feed_forward(x)\n",
    "        out_o1 = self.o1.feed_forward(np.array([out_h1, out_h2, out_h3]))\n",
    "        return out_o1\n",
    "\n",
    "network = OurNeuralNetworkTanH()\n",
    "x = np.array([2, 3, 5])\n",
    "\n",
    "print(network.feed_forward(x))"
   ]
  },
  {
   "cell_type": "code",
   "execution_count": 24,
   "metadata": {},
   "outputs": [
    {
     "name": "stdout",
     "output_type": "stream",
     "text": [
      "7.5\n"
     ]
    }
   ],
   "source": [
    "def relu(x) -> float:\n",
    "    if x >= 0:\n",
    "        return x\n",
    "    else:\n",
    "        return 0\n",
    "\n",
    "class Neuronrelu:\n",
    "    def __init__(self, weights, bias):\n",
    "        self.weights = weights\n",
    "        self.bias = bias\n",
    "\n",
    "    def feed_forward(self, inputs):\n",
    "        total = np.dot(self.weights, inputs) + self.bias\n",
    "        return relu(total)\n",
    "\n",
    "\n",
    "class OurNeuralNetworkRelu:\n",
    "    def __init__(self):\n",
    "        weights = np.array([0.5, 0.5, 0.5])\n",
    "        bias = 0\n",
    "        self.h1 = Neuronrelu(weights, bias)\n",
    "        self.h2 = Neuronrelu(weights, bias)\n",
    "        self.h3 = Neuronrelu(weights, bias)\n",
    "        self.o1 = Neuronrelu(weights, bias)\n",
    "    def feed_forward(self, x):\n",
    "        out_h1 = self.h1.feed_forward(x)\n",
    "        out_h2 = self.h1.feed_forward(x)\n",
    "        out_h3 = self.h1.feed_forward(x)\n",
    "        out_o1 = self.o1.feed_forward(np.array([out_h1, out_h2, out_h3]))\n",
    "        return out_o1\n",
    "\n",
    "network = OurNeuralNetworkRelu()\n",
    "x = np.array([2, 3, 5])\n",
    "\n",
    "print(network.feed_forward(x))\n"
   ]
  },
  {
   "cell_type": "code",
   "execution_count": 25,
   "metadata": {},
   "outputs": [
    {
     "name": "stdout",
     "output_type": "stream",
     "text": [
      "(0.9613959740515259, 0.9636765235959711)\n"
     ]
    }
   ],
   "source": [
    "\n",
    "class OurNeuralNetworkTanH2:\n",
    "    def __init__(self):\n",
    "        weights = np.array([1, 0])\n",
    "        bias = 1\n",
    "        self.h1 = Neurontanh(weights, bias)\n",
    "        self.h2 = Neurontanh(weights, bias)\n",
    "        self.o1 = Neurontanh(weights, bias)\n",
    "        self.o2 = Neurontanh(weights, bias)\n",
    "    def feed_forward(self, x, y):\n",
    "        out_h1 = self.h1.feed_forward(x)\n",
    "        out_h2 = self.h2.feed_forward(y)\n",
    "        out_o1 = self.o1.feed_forward(out_h1)\n",
    "        out_o2 = self.o2.feed_forward(out_h2)\n",
    "        return out_o1, out_o2\n",
    "\n",
    "network = OurNeuralNetworkTanH2()\n",
    "x = 1\n",
    "y = 2\n",
    "print(network.feed_forward(x, y))"
   ]
  },
  {
   "cell_type": "code",
   "execution_count": 26,
   "metadata": {},
   "outputs": [
    {
     "name": "stdout",
     "output_type": "stream",
     "text": [
      "(5, 9)\n"
     ]
    }
   ],
   "source": [
    "class OurNeuralNetworkRelu2:\n",
    "    def __init__(self):\n",
    "        weights = np.array([0, 1])\n",
    "        bias = 1\n",
    "        self.h1 = Neuronrelu(weights, bias)\n",
    "        self.h2 = Neuronrelu(weights, bias)\n",
    "        self.o1 = Neuronrelu(weights, bias)\n",
    "        self.o2 = Neuronrelu(weights, bias)\n",
    "    def feed_forward(self, x, y):\n",
    "        out_h1 = self.h1.feed_forward(x)\n",
    "        out_h2 = self.h2.feed_forward(y)\n",
    "        out_o1 = self.o1.feed_forward(np.array([out_h1, out_h1]))\n",
    "        out_o2 = self.o1.feed_forward(np.array([out_h2, out_h2]))\n",
    "\n",
    "        return out_o1, out_o2\n",
    "\n",
    "network = OurNeuralNetworkRelu2()\n",
    "\n",
    "x = np.array([1, 3])\n",
    "y = np.array([1, 7])\n",
    "print(network.feed_forward(x, y))"
   ]
  },
  {
   "cell_type": "markdown",
   "metadata": {},
   "source": [
    "# Задание 2\n",
    "\n",
    "Используйте классы MLPClassified и MLPRegressor для классификации и\n",
    "регрессии произвольных данных из интернета. Проведите анализ\n",
    "атрибуты, полученных моделей.\n",
    "Для классификации можете взять набор данных Ирисов:\n",
    "https://gist.githubusercontent.com/netj/8836201/raw/6f9306ad21398ea43cba4f\n",
    "7d537619d0e07d5ae3/iris.csv\n",
    "а для регрессии датасет зависимости заработной платы от опыта работы:\n",
    "https://raw.githubusercontent.com/AnnaShestova/salary-years-simple-linearregression/master/Salary_Data.csv\n"
   ]
  },
  {
   "cell_type": "code",
   "execution_count": 1,
   "metadata": {},
   "outputs": [],
   "source": [
    "import pandas as pd\n",
    "import numpy as np\n",
    "import matplotlib.pyplot as plt\n",
    "from pandas import DataFrame, Series\n",
    "from sklearn.model_selection import train_test_split\n",
    "from sklearn.datasets import load_iris"
   ]
  },
  {
   "cell_type": "code",
   "execution_count": 2,
   "metadata": {},
   "outputs": [
    {
     "name": "stdout",
     "output_type": "stream",
     "text": [
      "Dataset Size:  (150, 4) (150,)\n"
     ]
    }
   ],
   "source": [
    "digits = load_iris()\n",
    "\n",
    "X_digits, Y_digits = digits.data, digits.target\n",
    "print('Dataset Size: ', X_digits.shape, Y_digits.shape)"
   ]
  },
  {
   "cell_type": "code",
   "execution_count": 3,
   "metadata": {},
   "outputs": [
    {
     "name": "stdout",
     "output_type": "stream",
     "text": [
      "Train/Test Sizes:  (120, 4) (30, 4) (120,) (30,)\n"
     ]
    }
   ],
   "source": [
    "X_train, X_test, Y_train, Y_test = train_test_split(X_digits, Y_digits, train_size=0.80, test_size=0.20, stratify=Y_digits, random_state=123)\n",
    "\n",
    "print('Train/Test Sizes: ',  X_train.shape, X_test.shape, Y_train.shape, Y_test.shape)"
   ]
  },
  {
   "cell_type": "code",
   "execution_count": 4,
   "metadata": {},
   "outputs": [
    {
     "name": "stdout",
     "output_type": "stream",
     "text": [
      "[1 0 2 2 0 0 2 2 2 0 0 1 2 1 2]\n",
      "[1 0 2 2 0 0 2 1 2 0 0 1 2 1 2]\n",
      "Test Accuracy: 0.933\n",
      "Training Accuracy: 0.992\n"
     ]
    }
   ],
   "source": [
    "from sklearn.neural_network import MLPClassifier\n",
    "mlp_classifier = MLPClassifier(random_state=123, max_iter=1000)\n",
    "mlp_classifier.fit(X_train, Y_train)\n",
    "\n",
    "Y_preds = mlp_classifier.predict(X_test)\n",
    "\n",
    "print(Y_preds[:15])\n",
    "print(Y_test[:15])\n",
    "\n",
    "print('Test Accuracy: %.3f'%mlp_classifier.score(X_test, Y_test))\n",
    "print('Training Accuracy: %.3f'%mlp_classifier.score(X_train, Y_train))"
   ]
  },
  {
   "cell_type": "code",
   "execution_count": 5,
   "metadata": {},
   "outputs": [
    {
     "data": {
      "image/png": "[encoded data removed]",
      "text/plain": [
       "<Figure size 600x600 with 2 Axes>"
      ]
     },
     "metadata": {},
     "output_type": "display_data"
    }
   ],
   "source": [
    "from sklearn.metrics import confusion_matrix\n",
    "\n",
    "def plot_confusion_matrix(Y_test, Y_preds):\n",
    "    conf_mat = confusion_matrix(Y_test, Y_preds)\n",
    "    fig = plt.figure(figsize=(6, 6))\n",
    "    plt.matshow(conf_mat, cmap=plt.cm.Blues, fignum=1)\n",
    "    plt.yticks(range(3), range(3))\n",
    "    plt.xticks(range(3), range(3))\n",
    "    plt.colorbar()\n",
    "    for i in range(3):\n",
    "        for j in range(3):\n",
    "            plt.text(i, j, str(conf_mat[j, i]), color='tab:red')\n",
    "\n",
    "plot_confusion_matrix(Y_test, mlp_classifier.predict(X_test))"
   ]
  },
  {
   "cell_type": "code",
   "execution_count": 6,
   "metadata": {},
   "outputs": [
    {
     "name": "stdout",
     "output_type": "stream",
     "text": [
      "Loss:  0.06237838693566958\n",
      "Number of Coefs:  2\n",
      "Number of Intercepts:  2\n",
      "Number of Iterations for Which Estimator Run:  641\n",
      "Name of Output Layer Activation Function:  softmax\n"
     ]
    }
   ],
   "source": [
    "print('Loss: ', mlp_classifier.loss_)\n",
    "print('Number of Coefs: ', len(mlp_classifier.coefs_))\n",
    "print('Number of Intercepts: ', len(mlp_classifier.intercepts_))\n",
    "print('Number of Iterations for Which Estimator Run: ', mlp_classifier.n_iter_)\n",
    "print('Name of Output Layer Activation Function: ', mlp_classifier.out_activation_)"
   ]
  },
  {
   "cell_type": "code",
   "execution_count": 7,
   "metadata": {},
   "outputs": [],
   "source": [
    "url = 'https://raw.githubusercontent.com/AnnaShestova/salary-years-simple-linear-regression/master/Salary_Data.csv'\n",
    "dataset = pd.read_csv(url)"
   ]
  },
  {
   "cell_type": "code",
   "execution_count": 11,
   "metadata": {},
   "outputs": [
    {
     "name": "stdout",
     "output_type": "stream",
     "text": [
      "Train/Test Sizes:  (24, 1) (6, 1) (24,) (6,)\n"
     ]
    }
   ],
   "source": [
    "X_sal = dataset[['YearsExperience']]\n",
    "Y_sal = dataset['Salary']\n",
    "\n",
    "X_train, X_test, Y_train, Y_test = train_test_split(X_sal, Y_sal, train_size=0.80, test_size=0.20, random_state=123)\n",
    "print('Train/Test Sizes: ', X_train.shape, X_test.shape, Y_train.shape, Y_test.shape)"
   ]
  },
  {
   "cell_type": "code",
   "execution_count": 18,
   "metadata": {},
   "outputs": [
    {
     "name": "stdout",
     "output_type": "stream",
     "text": [
      "[ 55265.2045971  126554.5591937   52335.80522199 116782.59147446\n",
      "  55265.2045971  117759.05793283]\n",
      "7      54445.0\n",
      "29    121872.0\n",
      "5      56642.0\n",
      "26    116969.0\n",
      "8      64445.0\n",
      "27    112635.0\n",
      "Name: Salary, dtype: float64\n",
      "Test R^2 Score: 0.971\n",
      "Training R^2 Score: 0.948\n"
     ]
    }
   ],
   "source": [
    "from sklearn.neural_network import MLPRegressor\n",
    "\n",
    "mlp_regressor = MLPRegressor(random_state=123, max_iter=300000)\n",
    "mlp_regressor.fit(X_train, Y_train)\n",
    "\n",
    "MLPRegressor(activation='relu', alpha=0.0001, batch_size='auto', beta_1=0.9, beta_2=0.999, early_stopping=False, epsilon=1e-08, hidden_layer_sizes=(100,), learning_rate='constant', learning_rate_init=0.001, max_iter=300, momentum=0.9, n_iter_no_change=10, nesterovs_momentum=True, power_t=0.5, random_state=123, shuffle=True, solver=\"adam\", tol=0.0001, validation_fraction=0.1, verbose=False, warm_start=False)\n",
    "\n",
    "Y_preds = mlp_regressor.predict(X_test)\n",
    "\n",
    "print(Y_preds[:10])\n",
    "print(Y_test[:10])\n",
    "\n",
    "print('Test R^2 Score: %.3f'%mlp_regressor.score(X_test, Y_test))\n",
    "print('Training R^2 Score: %.3f'%mlp_regressor.score(X_train, Y_train))"
   ]
  },
  {
   "cell_type": "code",
   "execution_count": 19,
   "metadata": {},
   "outputs": [
    {
     "name": "stdout",
     "output_type": "stream",
     "text": [
      "Loss:  16873681.689960103\n",
      "Number of Coefs:  [array([[ 1.05079970e+001, -4.93531802e-001,  2.26556687e-316,\n",
      "         1.01299912e+001,  1.03556940e+001,  1.02869730e+001,\n",
      "         1.03601685e+001,  1.03803985e+001,  1.02697979e+001,\n",
      "         1.42250990e-316,  1.63578026e-316,  1.05499725e+001,\n",
      "         1.80172154e-316,  1.01474192e+001, -2.13761765e-316,\n",
      "         1.05595007e+001, -5.09331785e-001, -1.52335693e-253,\n",
      "         9.29084469e-317, -7.05356879e-002,  1.04537830e+001,\n",
      "         1.03198367e+001,  1.61465636e-002,  1.02106850e+001,\n",
      "         1.02855641e+001, -1.78834924e-001,  3.07767275e-317,\n",
      "         1.03590889e+001, -1.43563108e-001,  4.22880248e-003,\n",
      "        -7.14907642e-001, -1.82986066e-316, -3.32341435e-002,\n",
      "         1.01933299e+001,  1.01104218e+001,  4.47773301e-316,\n",
      "         1.22424195e-316,  1.03493771e+001,  1.06657441e+001,\n",
      "         1.02951759e+001,  1.78973030e-002,  5.93537463e-316,\n",
      "         1.00413610e+001, -5.88862919e-001,  1.56353949e-002,\n",
      "        -1.09288239e+000,  1.01045907e+001,  1.06167738e+001,\n",
      "         1.02116502e+001,  1.02799053e+001, -3.03318165e-316,\n",
      "         1.06023063e+001,  1.03071286e+001,  2.52393300e-003,\n",
      "        -5.82367737e-001, -3.66410718e-316,  1.02354528e+001,\n",
      "         1.02876824e+001,  4.20893031e-003, -3.76605058e-003,\n",
      "         1.05279383e+001, -2.97032566e-002,  1.01852544e+001,\n",
      "         2.26151922e-002,  1.05596490e+001, -6.76315610e-001,\n",
      "         1.54695214e-002, -1.85257258e-001, -7.38634283e-001,\n",
      "         1.03475621e+001, -7.85036722e-001,  1.05659139e+001,\n",
      "        -3.68837932e-002,  1.04745675e+001,  2.78557268e-001,\n",
      "         1.37768178e-002,  1.03460367e+001, -2.59789361e-316,\n",
      "         2.10903087e-317,  6.82292334e-003,  1.02231675e+001,\n",
      "         2.12646482e-002,  7.36282671e-003,  1.01568469e+001,\n",
      "         1.79108301e-002,  1.04728910e+001,  3.31124703e-316,\n",
      "         1.03329352e+001,  1.01577579e+001,  1.01149712e+001,\n",
      "         1.04896449e+001,  1.04641647e+001, -5.12593117e-316,\n",
      "         1.03013528e+001,  1.78317519e-002,  1.02532195e+001,\n",
      "        -1.24450531e-316,  1.01279305e+001, -1.89475089e-316,\n",
      "         4.21827759e-316]]), array([[ 1.99959846e+001],\n",
      "       [ 5.02079905e+000],\n",
      "       [-2.13823237e-316],\n",
      "       [ 2.04676917e+001],\n",
      "       [ 2.01622072e+001],\n",
      "       [ 2.02507026e+001],\n",
      "       [ 1.99531562e+001],\n",
      "       [ 2.01326503e+001],\n",
      "       [ 2.02647475e+001],\n",
      "       [-1.29508583e-316],\n",
      "       [-2.10939885e-316],\n",
      "       [ 1.99520080e+001],\n",
      "       [ 3.68785371e-317],\n",
      "       [ 2.04409052e+001],\n",
      "       [-8.91220908e-317],\n",
      "       [ 1.99456144e+001],\n",
      "       [ 5.26131829e+000],\n",
      "       [-1.35249897e-271],\n",
      "       [ 1.08333547e-316],\n",
      "       [-7.63763123e-002],\n",
      "       [ 2.00592057e+001],\n",
      "       [ 2.02138393e+001],\n",
      "       [-5.95400504e-002],\n",
      "       [ 2.03428941e+001],\n",
      "       [ 2.02470553e+001],\n",
      "       [-1.03641272e-001],\n",
      "       [-5.83724272e-316],\n",
      "       [ 2.01704010e+001],\n",
      "       [-1.81556900e-003],\n",
      "       [-1.76063145e-001],\n",
      "       [ 7.26641804e+000],\n",
      "       [-3.38744584e-316],\n",
      "       [ 1.80099520e-002],\n",
      "       [ 2.03591991e+001],\n",
      "       [ 2.04704624e+001],\n",
      "       [ 2.04434824e-316],\n",
      "       [ 3.95307249e-316],\n",
      "       [ 2.01789366e+001],\n",
      "       [ 1.98349099e+001],\n",
      "       [ 2.02383010e+001],\n",
      "       [-2.03784161e-001],\n",
      "       [ 3.91385509e-316],\n",
      "       [ 2.05857432e+001],\n",
      "       [ 6.11050489e+000],\n",
      "       [-7.47009772e-002],\n",
      "       [ 1.10807270e+001],\n",
      "       [ 2.04836335e+001],\n",
      "       [ 1.98582356e+001],\n",
      "       [ 2.03380575e+001],\n",
      "       [ 2.02500031e+001],\n",
      "       [-4.19176233e-316],\n",
      "       [ 1.99025756e+001],\n",
      "       [ 2.02229189e+001],\n",
      "       [-2.30549700e-002],\n",
      "       [ 5.89356363e+000],\n",
      "       [-3.26291728e-316],\n",
      "       [ 2.03143156e+001],\n",
      "       [ 2.02420021e+001],\n",
      "       [-9.80968211e-002],\n",
      "       [-1.05107426e-002],\n",
      "       [ 1.99771643e+001],\n",
      "       [-1.60501090e-001],\n",
      "       [ 2.03777307e+001],\n",
      "       [-8.19875439e-002],\n",
      "       [ 1.99335672e+001],\n",
      "       [ 6.81534225e+000],\n",
      "       [-1.12337957e-001],\n",
      "       [-2.02650173e-002],\n",
      "       [ 7.47861443e+000],\n",
      "       [ 2.01732478e+001],\n",
      "       [ 7.90802017e+000],\n",
      "       [ 1.99213647e+001],\n",
      "       [-1.74272243e-001],\n",
      "       [ 2.00255181e+001],\n",
      "       [ 1.33602867e+001],\n",
      "       [-1.32740913e-001],\n",
      "       [ 2.01818377e+001],\n",
      "       [ 1.98525754e-317],\n",
      "       [-3.17310351e-316],\n",
      "       [-1.68466440e-001],\n",
      "       [ 2.03432326e+001],\n",
      "       [-1.83910305e-001],\n",
      "       [-1.31308718e-001],\n",
      "       [ 2.04154641e+001],\n",
      "       [-7.90550549e-002],\n",
      "       [ 2.00315308e+001],\n",
      "       [ 1.03840746e-316],\n",
      "       [ 2.01430271e+001],\n",
      "       [ 2.04156536e+001],\n",
      "       [ 2.04857888e+001],\n",
      "       [ 2.00202676e+001],\n",
      "       [ 2.00489490e+001],\n",
      "       [ 3.29616592e-316],\n",
      "       [ 2.02302354e+001],\n",
      "       [-1.36834310e-001],\n",
      "       [ 2.02884603e+001],\n",
      "       [-3.04796404e-316],\n",
      "       [ 2.04573531e+001],\n",
      "       [ 3.71456339e-318],\n",
      "       [-1.69132732e-316]])]\n",
      "Number of Intercepts:  2\n",
      "Number of Iterations for Which Estimator Run:  30344\n",
      "Name of Output Layer Activation Function:  identity\n"
     ]
    }
   ],
   "source": [
    "print(\"Loss: \", mlp_regressor.loss_)\n",
    "print(\"Number of Coefs: \", (mlp_regressor.coefs_))\n",
    "[weights.shape for weights in mlp_regressor.coefs_]\n",
    "print('Number of Intercepts: ', len(mlp_regressor.intercepts_))\n",
    "print('Number of Iterations for Which Estimator Run: ', mlp_regressor.n_iter_)\n",
    "print('Name of Output Layer Activation Function: ', mlp_regressor.out_activation_)"
   ]
  }
 ],
 "metadata": {
  "kernelspec": {
   "display_name": "Python 3.8.3 64-bit",
   "language": "python",
   "name": "python3"
  },
  "language_info": {
   "codemirror_mode": {
    "name": "ipython",
    "version": 3
   },
   "file_extension": ".py",
   "mimetype": "text/x-python",
   "name": "python",
   "nbconvert_exporter": "python",
   "pygments_lexer": "ipython3",
   "version": "3.11.2"
  },
  "orig_nbformat": 4,
  "vscode": {
   "interpreter": {
    "hash": "216295f80159f3d18e340553fa641287a8cabc1a41bc42da95954fe3f12bd483"
   }
  }
 },
 "nbformat": 4,
 "nbformat_minor": 2
}
