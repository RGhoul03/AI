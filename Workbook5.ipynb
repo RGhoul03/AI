{
 "cells": [
  {
   "cell_type": "markdown",
   "metadata": {},
   "source": [
    "# Задание 1\n",
    "\n",
    "Создайте класс по работе с тригонометрическими функциями. В классе\n",
    "должны быть реализованы функции вычисления:\n",
    "− косинуса;\n",
    "− синуса;\n",
    "− тангенса;\n",
    "− арксинуса;\n",
    "− арккосинуса;\n",
    "− арктангенса;\n",
    "− перевода из градусов в радианы."
   ]
  },
  {
   "cell_type": "code",
   "execution_count": 6,
   "metadata": {},
   "outputs": [],
   "source": [
    "import math as m\n",
    "\n",
    "class Trigonometry:\n",
    "    @staticmethod\n",
    "    def cos(value):\n",
    "        return m.cos(value)\n",
    "\n",
    "    @staticmethod\n",
    "    def sin(value):\n",
    "        return m.sin(value)\n",
    "\n",
    "    @staticmethod\n",
    "    def tg(value):\n",
    "        return m.tan(value)\n",
    "\n",
    "    @staticmethod\n",
    "    def arcsin(value):\n",
    "        return m.asin(value)\n",
    "\n",
    "    @staticmethod\n",
    "    def arccos(value):\n",
    "        return m.acos(value)\n",
    "\n",
    "    @staticmethod\n",
    "    def arctg(value):\n",
    "        return m.atan(value)\n",
    "\n",
    "    @staticmethod\n",
    "    def degreesToRadians(value):\n",
    "        return m.radians(value)"
   ]
  },
  {
   "cell_type": "code",
   "execution_count": 8,
   "metadata": {},
   "outputs": [
    {
     "name": "stdout",
     "output_type": "stream",
     "text": [
      "0.8414709848078965\n",
      "0.5403023058681398\n",
      "1.5574077246549023\n",
      "1.5707963267948966\n",
      "0.0\n",
      "0.7853981633974483\n",
      "0.017453292519943295\n"
     ]
    }
   ],
   "source": [
    "tr = Trigonometry()\n",
    "\n",
    "print(tr.sin(1))\n",
    "print(tr.cos(1))\n",
    "print(tr.tg(1))\n",
    "print(tr.arcsin(1))\n",
    "print(tr.arccos(1))\n",
    "print(tr.arctg(1))\n",
    "print(tr.degreesToRadians(1))"
   ]
  },
  {
   "cell_type": "markdown",
   "metadata": {},
   "source": [
    "# Задание 2\n",
    "\n",
    "Представьте дерево показанное на рисунке с использованием списка из\n",
    "списков. Выведите на печать корень дерева, а также его левое и правое\n",
    "поддеревья"
   ]
  },
  {
   "cell_type": "code",
   "execution_count": 4,
   "metadata": {},
   "outputs": [
    {
     "name": "stdout",
     "output_type": "stream",
     "text": [
      "Root:  a\n",
      "Left tree child: ['b', ['d', 'e']]\n",
      "Right tree child:  ['c', ['f']]\n"
     ]
    }
   ],
   "source": [
    "tree = ['a', ['b', ['d', 'e']], ['c', ['f']]]\n",
    "\n",
    "print('Root: ', tree[0])\n",
    "print('Left tree child:',  tree[1])\n",
    "print('Right tree child: ', tree[2])"
   ]
  },
  {
   "cell_type": "markdown",
   "metadata": {},
   "source": [
    "# Задание 3\n",
    "\n",
    "Дан класс, описывающий бинарное дерево.\n",
    "\n",
    "Реализуйте в классе функцию для вставки нового элемента в дерево по\n",
    "следующим правилам:\n",
    "• Левое поддерево узла содержит только узлы со значениями меньше,\n",
    "чем значение в узле.\n",
    "• Правое поддерево узла содержит только узлы со значениями меньше,\n",
    "чем значение в узле.\n",
    "• Каждое из левого и правого поддеревьев также должно быть\n",
    "бинарным деревом поиска.\n",
    "• Не должно быть повторяющихся узлов.\n",
    "Метод вставки сравнивает значение узла с родительским узлом и решает\n",
    "куда доваить элемент (в левое или правое поддерево). Перепишите, метод\n",
    "PrintTree для печати полной версии дерева.\n"
   ]
  },
  {
   "cell_type": "code",
   "execution_count": 20,
   "metadata": {},
   "outputs": [],
   "source": [
    "class Tree:\n",
    "    def __init__(self, data):\n",
    "        self.left = None\n",
    "        self.right = None\n",
    "        self.data = data\n",
    "\n",
    "    def print_tree(self):\n",
    "        if self.left:\n",
    "            self.left.print_tree()\n",
    "        print(self.data)\n",
    "        if self.right:\n",
    "            self.right.print_tree()\n",
    "\n",
    "    def insert(self, data):\n",
    "        if data < self.data:\n",
    "            if not self.left:\n",
    "                self.left = Tree(data)\n",
    "            else:\n",
    "                self.left.insert(data)\n",
    "        elif data > self.data:\n",
    "            if not self.right:\n",
    "                self.right = Tree(data)\n",
    "            else:\n",
    "                self.right.insert(data)"
   ]
  },
  {
   "cell_type": "markdown",
   "metadata": {},
   "source": [
    "# Задание 4\n",
    "\n",
    "Постройте классификатор на основе дерева принятия решений\n",
    "следующего датасета"
   ]
  },
  {
   "cell_type": "code",
   "execution_count": 1,
   "metadata": {},
   "outputs": [],
   "source": [
    "import numpy as np\n",
    "import pandas as pd \n",
    "\n",
    "from sklearn import tree\n",
    "from sklearn.tree import DecisionTreeClassifier\n",
    "from sklearn.metrics import classification_report, confusion_matrix \n",
    "from sklearn.model_selection import train_test_split"
   ]
  },
  {
   "cell_type": "code",
   "execution_count": 2,
   "metadata": {},
   "outputs": [],
   "source": [
    "X = np.array([[-1,-1],[-2,-1],[-3,-2],[1,1],[2,1],[3,2]])\n",
    "Y = [0,0,0,1,1,1]"
   ]
  },
  {
   "cell_type": "code",
   "execution_count": 3,
   "metadata": {},
   "outputs": [
    {
     "name": "stdout",
     "output_type": "stream",
     "text": [
      "[[1 0]\n",
      " [0 1]]\n",
      "              precision    recall  f1-score   support\n",
      "\n",
      "           0       1.00      1.00      1.00         1\n",
      "           1       1.00      1.00      1.00         1\n",
      "\n",
      "    accuracy                           1.00         2\n",
      "   macro avg       1.00      1.00      1.00         2\n",
      "weighted avg       1.00      1.00      1.00         2\n",
      "\n"
     ]
    },
    {
     "data": {
      "image/png": "[encoded data removed]",
      "text/plain": [
       "<Figure size 640x480 with 1 Axes>"
      ]
     },
     "metadata": {},
     "output_type": "display_data"
    }
   ],
   "source": [
    "x_train, x_test, y_train, y_test = train_test_split(X, Y, test_size=0.2, random_state = 0)\n",
    "\n",
    "classifier = DecisionTreeClassifier() \n",
    "classifier.fit(x_train, y_train)\n",
    "\n",
    "tree.plot_tree(classifier)\n",
    "\n",
    "y_pred = classifier.predict(x_test)\n",
    "y_pred\n",
    "\n",
    "print(confusion_matrix(y_test, y_pred)) \n",
    "print(classification_report(y_test, y_pred))"
   ]
  },
  {
   "cell_type": "markdown",
   "metadata": {},
   "source": [
    "# Задание 5\n",
    "\n",
    " Постройте модель регрессии для данных из предыдущей рабочей\n",
    "тетради.Для примера можно взять потребления газа (в миллионах\n",
    "галлонов) в 48 штатах США или набор данных о качестве красного вина:\n",
    "https://raw.githubusercontent.com/likarajo/petrol_consumption/master/data/pet\n",
    "rol_consumption.csv\n",
    "https://raw.githubusercontent.com/aniruddhachoudhury/Red-WineQuality/master/winequality-red.csv\n",
    "Постройте прогноз. Оцените точность модели."
   ]
  },
  {
   "cell_type": "code",
   "execution_count": 4,
   "metadata": {},
   "outputs": [],
   "source": [
    "import pandas as pd\n",
    "import matplotlib.pyplot as plt\n",
    "from sklearn.tree import DecisionTreeRegressor\n",
    "from sklearn.model_selection import train_test_split\n",
    "from sklearn import metrics"
   ]
  },
  {
   "cell_type": "code",
   "execution_count": 5,
   "metadata": {},
   "outputs": [
    {
     "data": {
      "text/plain": [
       "(48, 5)"
      ]
     },
     "metadata": {},
     "output_type": "display_data"
    },
    {
     "data": {
      "text/html": [
       "<div>\n",
       "<style scoped>\n",
       "    .dataframe tbody tr th:only-of-type {\n",
       "        vertical-align: middle;\n",
       "    }\n",
       "\n",
       "    .dataframe tbody tr th {\n",
       "        vertical-align: top;\n",
       "    }\n",
       "\n",
       "    .dataframe thead th {\n",
       "        text-align: right;\n",
       "    }\n",
       "</style>\n",
       "<table border=\"1\" class=\"dataframe\">\n",
       "  <thead>\n",
       "    <tr style=\"text-align: right;\">\n",
       "      <th></th>\n",
       "      <th>Petrol_tax</th>\n",
       "      <th>Average_income</th>\n",
       "      <th>Paved_Highways</th>\n",
       "      <th>Population_Driver_licence(%)</th>\n",
       "      <th>Petrol_Consumption</th>\n",
       "    </tr>\n",
       "  </thead>\n",
       "  <tbody>\n",
       "    <tr>\n",
       "      <th>0</th>\n",
       "      <td>9.0</td>\n",
       "      <td>3571</td>\n",
       "      <td>1976</td>\n",
       "      <td>0.525</td>\n",
       "      <td>541</td>\n",
       "    </tr>\n",
       "    <tr>\n",
       "      <th>1</th>\n",
       "      <td>9.0</td>\n",
       "      <td>4092</td>\n",
       "      <td>1250</td>\n",
       "      <td>0.572</td>\n",
       "      <td>524</td>\n",
       "    </tr>\n",
       "    <tr>\n",
       "      <th>2</th>\n",
       "      <td>9.0</td>\n",
       "      <td>3865</td>\n",
       "      <td>1586</td>\n",
       "      <td>0.580</td>\n",
       "      <td>561</td>\n",
       "    </tr>\n",
       "    <tr>\n",
       "      <th>3</th>\n",
       "      <td>7.5</td>\n",
       "      <td>4870</td>\n",
       "      <td>2351</td>\n",
       "      <td>0.529</td>\n",
       "      <td>414</td>\n",
       "    </tr>\n",
       "    <tr>\n",
       "      <th>4</th>\n",
       "      <td>8.0</td>\n",
       "      <td>4399</td>\n",
       "      <td>431</td>\n",
       "      <td>0.544</td>\n",
       "      <td>410</td>\n",
       "    </tr>\n",
       "  </tbody>\n",
       "</table>\n",
       "</div>"
      ],
      "text/plain": [
       "   Petrol_tax  Average_income  Paved_Highways  Population_Driver_licence(%)  \\\n",
       "0         9.0            3571            1976                         0.525   \n",
       "1         9.0            4092            1250                         0.572   \n",
       "2         9.0            3865            1586                         0.580   \n",
       "3         7.5            4870            2351                         0.529   \n",
       "4         8.0            4399             431                         0.544   \n",
       "\n",
       "   Petrol_Consumption  \n",
       "0                 541  \n",
       "1                 524  \n",
       "2                 561  \n",
       "3                 414  \n",
       "4                 410  "
      ]
     },
     "metadata": {},
     "output_type": "display_data"
    },
    {
     "data": {
      "text/html": [
       "<div>\n",
       "<style scoped>\n",
       "    .dataframe tbody tr th:only-of-type {\n",
       "        vertical-align: middle;\n",
       "    }\n",
       "\n",
       "    .dataframe tbody tr th {\n",
       "        vertical-align: top;\n",
       "    }\n",
       "\n",
       "    .dataframe thead th {\n",
       "        text-align: right;\n",
       "    }\n",
       "</style>\n",
       "<table border=\"1\" class=\"dataframe\">\n",
       "  <thead>\n",
       "    <tr style=\"text-align: right;\">\n",
       "      <th></th>\n",
       "      <th>Petrol_tax</th>\n",
       "      <th>Average_income</th>\n",
       "      <th>Paved_Highways</th>\n",
       "      <th>Population_Driver_licence(%)</th>\n",
       "      <th>Petrol_Consumption</th>\n",
       "    </tr>\n",
       "  </thead>\n",
       "  <tbody>\n",
       "    <tr>\n",
       "      <th>count</th>\n",
       "      <td>48.000000</td>\n",
       "      <td>48.000000</td>\n",
       "      <td>48.000000</td>\n",
       "      <td>48.000000</td>\n",
       "      <td>48.000000</td>\n",
       "    </tr>\n",
       "    <tr>\n",
       "      <th>mean</th>\n",
       "      <td>7.668333</td>\n",
       "      <td>4241.833333</td>\n",
       "      <td>5565.416667</td>\n",
       "      <td>0.570333</td>\n",
       "      <td>576.770833</td>\n",
       "    </tr>\n",
       "    <tr>\n",
       "      <th>std</th>\n",
       "      <td>0.950770</td>\n",
       "      <td>573.623768</td>\n",
       "      <td>3491.507166</td>\n",
       "      <td>0.055470</td>\n",
       "      <td>111.885816</td>\n",
       "    </tr>\n",
       "    <tr>\n",
       "      <th>min</th>\n",
       "      <td>5.000000</td>\n",
       "      <td>3063.000000</td>\n",
       "      <td>431.000000</td>\n",
       "      <td>0.451000</td>\n",
       "      <td>344.000000</td>\n",
       "    </tr>\n",
       "    <tr>\n",
       "      <th>25%</th>\n",
       "      <td>7.000000</td>\n",
       "      <td>3739.000000</td>\n",
       "      <td>3110.250000</td>\n",
       "      <td>0.529750</td>\n",
       "      <td>509.500000</td>\n",
       "    </tr>\n",
       "    <tr>\n",
       "      <th>50%</th>\n",
       "      <td>7.500000</td>\n",
       "      <td>4298.000000</td>\n",
       "      <td>4735.500000</td>\n",
       "      <td>0.564500</td>\n",
       "      <td>568.500000</td>\n",
       "    </tr>\n",
       "    <tr>\n",
       "      <th>75%</th>\n",
       "      <td>8.125000</td>\n",
       "      <td>4578.750000</td>\n",
       "      <td>7156.000000</td>\n",
       "      <td>0.595250</td>\n",
       "      <td>632.750000</td>\n",
       "    </tr>\n",
       "    <tr>\n",
       "      <th>max</th>\n",
       "      <td>10.000000</td>\n",
       "      <td>5342.000000</td>\n",
       "      <td>17782.000000</td>\n",
       "      <td>0.724000</td>\n",
       "      <td>968.000000</td>\n",
       "    </tr>\n",
       "  </tbody>\n",
       "</table>\n",
       "</div>"
      ],
      "text/plain": [
       "       Petrol_tax  Average_income  Paved_Highways  \\\n",
       "count   48.000000       48.000000       48.000000   \n",
       "mean     7.668333     4241.833333     5565.416667   \n",
       "std      0.950770      573.623768     3491.507166   \n",
       "min      5.000000     3063.000000      431.000000   \n",
       "25%      7.000000     3739.000000     3110.250000   \n",
       "50%      7.500000     4298.000000     4735.500000   \n",
       "75%      8.125000     4578.750000     7156.000000   \n",
       "max     10.000000     5342.000000    17782.000000   \n",
       "\n",
       "       Population_Driver_licence(%)  Petrol_Consumption  \n",
       "count                     48.000000           48.000000  \n",
       "mean                       0.570333          576.770833  \n",
       "std                        0.055470          111.885816  \n",
       "min                        0.451000          344.000000  \n",
       "25%                        0.529750          509.500000  \n",
       "50%                        0.564500          568.500000  \n",
       "75%                        0.595250          632.750000  \n",
       "max                        0.724000          968.000000  "
      ]
     },
     "metadata": {},
     "output_type": "display_data"
    }
   ],
   "source": [
    "url = r'https://raw.githubusercontent.com/likarajo/petrol_consumption/master/data/petrol_consumption.csv'\n",
    "dataset = pd.read_csv(url)\n",
    "display(dataset.shape)\n",
    "display(dataset.head())\n",
    "display(dataset.describe())"
   ]
  },
  {
   "cell_type": "code",
   "execution_count": 6,
   "metadata": {},
   "outputs": [
    {
     "data": {
      "image/png": "[encoded data removed]",
      "text/plain": [
       "<Figure size 640x480 with 1 Axes>"
      ]
     },
     "metadata": {},
     "output_type": "display_data"
    }
   ],
   "source": [
    "plt.scatter (dataset['Population_Driver_licence(%)'], dataset['Petrol_Consumption'], color = 'g', label = \"Потребление газа\")\n",
    "plt. xlabel(\"Процет людей с водительской лицензией\") \n",
    "plt. ylabel(\"Потребление газа\") \n",
    "plt. show()"
   ]
  },
  {
   "cell_type": "code",
   "execution_count": 7,
   "metadata": {},
   "outputs": [],
   "source": [
    "X = dataset.iloc[:,:-1].values\n",
    "Y = dataset.iloc[:,-1].values"
   ]
  },
  {
   "cell_type": "code",
   "execution_count": 8,
   "metadata": {},
   "outputs": [
    {
     "data": {
      "text/plain": [
       "[Text(0.7552083333333334, 0.95, 'x[3] <= 0.667\\nsquared_error = 13692.341\\nsamples = 38\\nvalue = 583.974'),\n",
       " Text(0.59375, 0.85, 'x[1] <= 4389.5\\nsquared_error = 6666.408\\nsamples = 34\\nvalue = 556.941'),\n",
       " Text(0.390625, 0.75, 'x[0] <= 8.75\\nsquared_error = 2855.42\\nsamples = 21\\nvalue = 600.762'),\n",
       " Text(0.2604166666666667, 0.65, 'x[2] <= 5350.0\\nsquared_error = 2527.34\\nsamples = 16\\nvalue = 617.312'),\n",
       " Text(0.15625, 0.55, 'x[1] <= 3731.5\\nsquared_error = 1754.0\\nsamples = 7\\nvalue = 646.0'),\n",
       " Text(0.08333333333333333, 0.45, 'x[1] <= 3645.5\\nsquared_error = 1251.188\\nsamples = 4\\nvalue = 672.25'),\n",
       " Text(0.041666666666666664, 0.35, 'x[3] <= 0.605\\nsquared_error = 100.0\\nsamples = 2\\nvalue = 638.0'),\n",
       " Text(0.020833333333333332, 0.25, 'squared_error = 0.0\\nsamples = 1\\nvalue = 628.0'),\n",
       " Text(0.0625, 0.25, 'squared_error = 0.0\\nsamples = 1\\nvalue = 648.0'),\n",
       " Text(0.125, 0.35, 'x[1] <= 3687.0\\nsquared_error = 56.25\\nsamples = 2\\nvalue = 706.5'),\n",
       " Text(0.10416666666666667, 0.25, 'squared_error = 0.0\\nsamples = 1\\nvalue = 699.0'),\n",
       " Text(0.14583333333333334, 0.25, 'squared_error = 0.0\\nsamples = 1\\nvalue = 714.0'),\n",
       " Text(0.22916666666666666, 0.45, 'x[1] <= 4298.0\\nsquared_error = 280.667\\nsamples = 3\\nvalue = 611.0'),\n",
       " Text(0.20833333333333334, 0.35, 'x[1] <= 4020.5\\nsquared_error = 90.25\\nsamples = 2\\nvalue = 600.5'),\n",
       " Text(0.1875, 0.25, 'squared_error = 0.0\\nsamples = 1\\nvalue = 591.0'),\n",
       " Text(0.22916666666666666, 0.25, 'squared_error = 0.0\\nsamples = 1\\nvalue = 610.0'),\n",
       " Text(0.25, 0.35, 'squared_error = 0.0\\nsamples = 1\\nvalue = 632.0'),\n",
       " Text(0.3645833333333333, 0.55, 'x[3] <= 0.565\\nsquared_error = 1990.889\\nsamples = 9\\nvalue = 595.0'),\n",
       " Text(0.3125, 0.45, 'x[1] <= 4197.5\\nsquared_error = 763.556\\nsamples = 3\\nvalue = 545.333'),\n",
       " Text(0.2916666666666667, 0.35, 'x[3] <= 0.538\\nsquared_error = 100.0\\nsamples = 2\\nvalue = 564.0'),\n",
       " Text(0.2708333333333333, 0.25, 'squared_error = 0.0\\nsamples = 1\\nvalue = 554.0'),\n",
       " Text(0.3125, 0.25, 'squared_error = 0.0\\nsamples = 1\\nvalue = 574.0'),\n",
       " Text(0.3333333333333333, 0.35, 'squared_error = 0.0\\nsamples = 1\\nvalue = 508.0'),\n",
       " Text(0.4166666666666667, 0.45, 'x[1] <= 4325.0\\nsquared_error = 754.472\\nsamples = 6\\nvalue = 619.833'),\n",
       " Text(0.3958333333333333, 0.35, 'x[1] <= 4125.5\\nsquared_error = 209.84\\nsamples = 5\\nvalue = 630.6'),\n",
       " Text(0.3541666666666667, 0.25, 'x[0] <= 7.04\\nsquared_error = 29.556\\nsamples = 3\\nvalue = 638.333'),\n",
       " Text(0.3333333333333333, 0.15, 'x[2] <= 12808.0\\nsquared_error = 4.0\\nsamples = 2\\nvalue = 642.0'),\n",
       " Text(0.3125, 0.05, 'squared_error = 0.0\\nsamples = 1\\nvalue = 644.0'),\n",
       " Text(0.3541666666666667, 0.05, 'squared_error = 0.0\\nsamples = 1\\nvalue = 640.0'),\n",
       " Text(0.375, 0.15, 'squared_error = 0.0\\nsamples = 1\\nvalue = 631.0'),\n",
       " Text(0.4375, 0.25, 'x[2] <= 9424.0\\nsquared_error = 256.0\\nsamples = 2\\nvalue = 619.0'),\n",
       " Text(0.4166666666666667, 0.15, 'squared_error = 0.0\\nsamples = 1\\nvalue = 603.0'),\n",
       " Text(0.4583333333333333, 0.15, 'squared_error = 0.0\\nsamples = 1\\nvalue = 635.0'),\n",
       " Text(0.4375, 0.35, 'squared_error = 0.0\\nsamples = 1\\nvalue = 566.0'),\n",
       " Text(0.5208333333333334, 0.65, 'x[2] <= 1418.0\\nsquared_error = 223.76\\nsamples = 5\\nvalue = 547.8'),\n",
       " Text(0.5, 0.55, 'squared_error = 0.0\\nsamples = 1\\nvalue = 524.0'),\n",
       " Text(0.5416666666666666, 0.55, 'x[3] <= 0.535\\nsquared_error = 102.688\\nsamples = 4\\nvalue = 553.75'),\n",
       " Text(0.5, 0.45, 'x[3] <= 0.521\\nsquared_error = 9.0\\nsamples = 2\\nvalue = 544.0'),\n",
       " Text(0.4791666666666667, 0.35, 'squared_error = 0.0\\nsamples = 1\\nvalue = 547.0'),\n",
       " Text(0.5208333333333334, 0.35, 'squared_error = 0.0\\nsamples = 1\\nvalue = 541.0'),\n",
       " Text(0.5833333333333334, 0.45, 'x[3] <= 0.562\\nsquared_error = 6.25\\nsamples = 2\\nvalue = 563.5'),\n",
       " Text(0.5625, 0.35, 'squared_error = 0.0\\nsamples = 1\\nvalue = 566.0'),\n",
       " Text(0.6041666666666666, 0.35, 'squared_error = 0.0\\nsamples = 1\\nvalue = 561.0'),\n",
       " Text(0.796875, 0.75, 'x[3] <= 0.572\\nsquared_error = 4709.822\\nsamples = 13\\nvalue = 486.154'),\n",
       " Text(0.71875, 0.65, 'x[3] <= 0.481\\nsquared_error = 2144.914\\nsamples = 9\\nvalue = 453.556'),\n",
       " Text(0.6979166666666666, 0.55, 'squared_error = 0.0\\nsamples = 1\\nvalue = 344.0'),\n",
       " Text(0.7395833333333334, 0.55, 'x[2] <= 3280.5\\nsquared_error = 725.188\\nsamples = 8\\nvalue = 467.25'),\n",
       " Text(0.6666666666666666, 0.45, 'x[0] <= 8.0\\nsquared_error = 408.688\\nsamples = 4\\nvalue = 448.75'),\n",
       " Text(0.6458333333333334, 0.35, 'squared_error = 0.0\\nsamples = 1\\nvalue = 414.0'),\n",
       " Text(0.6875, 0.35, 'x[3] <= 0.531\\nsquared_error = 8.222\\nsamples = 3\\nvalue = 460.333'),\n",
       " Text(0.6666666666666666, 0.25, 'squared_error = 0.0\\nsamples = 1\\nvalue = 464.0'),\n",
       " Text(0.7083333333333334, 0.25, 'x[0] <= 9.25\\nsquared_error = 2.25\\nsamples = 2\\nvalue = 458.5'),\n",
       " Text(0.6875, 0.15, 'squared_error = 0.0\\nsamples = 1\\nvalue = 460.0'),\n",
       " Text(0.7291666666666666, 0.15, 'squared_error = 0.0\\nsamples = 1\\nvalue = 457.0'),\n",
       " Text(0.8125, 0.45, 'x[2] <= 8542.0\\nsquared_error = 357.188\\nsamples = 4\\nvalue = 485.75'),\n",
       " Text(0.7708333333333334, 0.35, 'x[0] <= 8.0\\nsquared_error = 36.0\\nsamples = 2\\nvalue = 504.0'),\n",
       " Text(0.75, 0.25, 'squared_error = 0.0\\nsamples = 1\\nvalue = 498.0'),\n",
       " Text(0.7916666666666666, 0.25, 'squared_error = 0.0\\nsamples = 1\\nvalue = 510.0'),\n",
       " Text(0.8541666666666666, 0.35, 'x[1] <= 4786.5\\nsquared_error = 12.25\\nsamples = 2\\nvalue = 467.5'),\n",
       " Text(0.8333333333333334, 0.25, 'squared_error = 0.0\\nsamples = 1\\nvalue = 464.0'),\n",
       " Text(0.875, 0.25, 'squared_error = 0.0\\nsamples = 1\\nvalue = 471.0'),\n",
       " Text(0.875, 0.65, 'x[1] <= 4705.0\\nsquared_error = 2710.25\\nsamples = 4\\nvalue = 559.5'),\n",
       " Text(0.8541666666666666, 0.55, 'squared_error = 0.0\\nsamples = 1\\nvalue = 649.0'),\n",
       " Text(0.8958333333333334, 0.55, 'x[2] <= 3766.0\\nsquared_error = 53.556\\nsamples = 3\\nvalue = 529.667'),\n",
       " Text(0.875, 0.45, 'squared_error = 0.0\\nsamples = 1\\nvalue = 540.0'),\n",
       " Text(0.9166666666666666, 0.45, 'x[2] <= 8362.0\\nsquared_error = 0.25\\nsamples = 2\\nvalue = 524.5'),\n",
       " Text(0.8958333333333334, 0.35, 'squared_error = 0.0\\nsamples = 1\\nvalue = 525.0'),\n",
       " Text(0.9375, 0.35, 'squared_error = 0.0\\nsamples = 1\\nvalue = 524.0'),\n",
       " Text(0.9166666666666666, 0.85, 'x[1] <= 4343.0\\nsquared_error = 14404.188\\nsamples = 4\\nvalue = 813.75'),\n",
       " Text(0.8958333333333334, 0.75, 'squared_error = 0.0\\nsamples = 1\\nvalue = 640.0'),\n",
       " Text(0.9375, 0.75, 'x[1] <= 4530.5\\nsquared_error = 5788.222\\nsamples = 3\\nvalue = 871.667'),\n",
       " Text(0.9166666666666666, 0.65, 'squared_error = 0.0\\nsamples = 1\\nvalue = 968.0'),\n",
       " Text(0.9583333333333334, 0.65, 'x[0] <= 6.5\\nsquared_error = 1722.25\\nsamples = 2\\nvalue = 823.5'),\n",
       " Text(0.9375, 0.55, 'squared_error = 0.0\\nsamples = 1\\nvalue = 782.0'),\n",
       " Text(0.9791666666666666, 0.55, 'squared_error = 0.0\\nsamples = 1\\nvalue = 865.0')]"
      ]
     },
     "execution_count": 8,
     "metadata": {},
     "output_type": "execute_result"
    },
    {
     "data": {
      "image/png": "[encoded data removed]",
      "text/plain": [
       "<Figure size 640x480 with 1 Axes>"
      ]
     },
     "metadata": {},
     "output_type": "display_data"
    }
   ],
   "source": [
    "X_train, X_test, Y_train, Y_test = train_test_split(X, Y, test_size=0.2, random_state=0)\n",
    "\n",
    "regressor = DecisionTreeRegressor()\n",
    "regressor.fit(X_train,Y_train)\n",
    "tree.plot_tree(regressor)"
   ]
  },
  {
   "cell_type": "code",
   "execution_count": 9,
   "metadata": {},
   "outputs": [
    {
     "data": {
      "text/plain": [
       "array([547., 414., 574., 554., 631., 644., 628., 649., 414., 498.])"
      ]
     },
     "execution_count": 9,
     "metadata": {},
     "output_type": "execute_result"
    }
   ],
   "source": [
    "Y_pred = regressor.predict(X_test)\n",
    "Y_pred"
   ]
  },
  {
   "cell_type": "code",
   "execution_count": 10,
   "metadata": {},
   "outputs": [
    {
     "data": {
      "text/html": [
       "<div>\n",
       "<style scoped>\n",
       "    .dataframe tbody tr th:only-of-type {\n",
       "        vertical-align: middle;\n",
       "    }\n",
       "\n",
       "    .dataframe tbody tr th {\n",
       "        vertical-align: top;\n",
       "    }\n",
       "\n",
       "    .dataframe thead th {\n",
       "        text-align: right;\n",
       "    }\n",
       "</style>\n",
       "<table border=\"1\" class=\"dataframe\">\n",
       "  <thead>\n",
       "    <tr style=\"text-align: right;\">\n",
       "      <th></th>\n",
       "      <th>Actual</th>\n",
       "      <th>Predicted</th>\n",
       "    </tr>\n",
       "  </thead>\n",
       "  <tbody>\n",
       "    <tr>\n",
       "      <th>0</th>\n",
       "      <td>534</td>\n",
       "      <td>547.0</td>\n",
       "    </tr>\n",
       "    <tr>\n",
       "      <th>1</th>\n",
       "      <td>410</td>\n",
       "      <td>414.0</td>\n",
       "    </tr>\n",
       "    <tr>\n",
       "      <th>2</th>\n",
       "      <td>577</td>\n",
       "      <td>574.0</td>\n",
       "    </tr>\n",
       "    <tr>\n",
       "      <th>3</th>\n",
       "      <td>571</td>\n",
       "      <td>554.0</td>\n",
       "    </tr>\n",
       "    <tr>\n",
       "      <th>4</th>\n",
       "      <td>577</td>\n",
       "      <td>631.0</td>\n",
       "    </tr>\n",
       "    <tr>\n",
       "      <th>5</th>\n",
       "      <td>704</td>\n",
       "      <td>644.0</td>\n",
       "    </tr>\n",
       "    <tr>\n",
       "      <th>6</th>\n",
       "      <td>487</td>\n",
       "      <td>628.0</td>\n",
       "    </tr>\n",
       "    <tr>\n",
       "      <th>7</th>\n",
       "      <td>587</td>\n",
       "      <td>649.0</td>\n",
       "    </tr>\n",
       "    <tr>\n",
       "      <th>8</th>\n",
       "      <td>467</td>\n",
       "      <td>414.0</td>\n",
       "    </tr>\n",
       "    <tr>\n",
       "      <th>9</th>\n",
       "      <td>580</td>\n",
       "      <td>498.0</td>\n",
       "    </tr>\n",
       "  </tbody>\n",
       "</table>\n",
       "</div>"
      ],
      "text/plain": [
       "   Actual  Predicted\n",
       "0     534      547.0\n",
       "1     410      414.0\n",
       "2     577      574.0\n",
       "3     571      554.0\n",
       "4     577      631.0\n",
       "5     704      644.0\n",
       "6     487      628.0\n",
       "7     587      649.0\n",
       "8     467      414.0\n",
       "9     580      498.0"
      ]
     },
     "execution_count": 10,
     "metadata": {},
     "output_type": "execute_result"
    }
   ],
   "source": [
    "dataframe = pd.DataFrame({\"Actual\": Y_test, \"Predicted\": Y_pred})\n",
    "dataframe"
   ]
  },
  {
   "cell_type": "code",
   "execution_count": 14,
   "metadata": {},
   "outputs": [
    {
     "name": "stdout",
     "output_type": "stream",
     "text": [
      "Mean Squared Error: 4025.7\n",
      "Mean Absolute Error: 48.9\n",
      "27685\n",
      "Ответ: (48, 5)\n"
     ]
    }
   ],
   "source": [
    "metrics.mean_absolute_error(Y_test,Y_pred) / np.average(Y) * 100\n",
    "print('Mean Squared Error:', metrics.mean_squared_error(Y_test,Y_pred)) \n",
    "print('Mean Absolute Error:', metrics.mean_absolute_error(Y_test,Y_pred))\n",
    "\n",
    "print(dataset['Petrol_Consumption'].sum())\n",
    "print(\"Ответ:\", dataset.shape)"
   ]
  }
 ],
 "metadata": {
  "kernelspec": {
   "display_name": "Python 3.8.3 64-bit",
   "language": "python",
   "name": "python3"
  },
  "language_info": {
   "codemirror_mode": {
    "name": "ipython",
    "version": 3
   },
   "file_extension": ".py",
   "mimetype": "text/x-python",
   "name": "python",
   "nbconvert_exporter": "python",
   "pygments_lexer": "ipython3",
   "version": "3.11.2"
  },
  "orig_nbformat": 4,
  "vscode": {
   "interpreter": {
    "hash": "216295f80159f3d18e340553fa641287a8cabc1a41bc42da95954fe3f12bd483"
   }
  }
 },
 "nbformat": 4,
 "nbformat_minor": 2
}
